{
 "cells": [
  {
   "cell_type": "markdown",
   "metadata": {},
   "source": [
    "## Exponential Smoothing "
   ]
  },
  {
   "cell_type": "markdown",
   "metadata": {},
   "source": [
    "### Import Libraries"
   ]
  },
  {
   "cell_type": "code",
   "execution_count": 3,
   "metadata": {},
   "outputs": [],
   "source": [
    "from pyspark.sql import SparkSession\n",
    "from pyspark.sql import Window\n",
    "from pyspark.sql.functions import *\n",
    "from pyspark.sql.types import *\n"
   ]
  },
  {
   "cell_type": "markdown",
   "metadata": {},
   "source": [
    "### Load Dataset\n",
    "\n",
    "- Loading excel file"
   ]
  },
  {
   "cell_type": "code",
   "execution_count": 4,
   "metadata": {},
   "outputs": [],
   "source": [
    "spark = SparkSession.builder \\\n",
    "    .appName(\"Exponential Smoothing\") \\\n",
    "    .config(\"spark.jars.packages\", \"com.crealytics:spark-excel_2.12:0.13.5\") \\\n",
    "    .getOrCreate()\n",
    "\n",
    "data = spark.read \\\n",
    "    .format(\"com.crealytics.spark.excel\") \\\n",
    "    .option(\"header\", \"true\") \\\n",
    "    .option(\"inferSchema\", \"true\") \\\n",
    "    .load(\"./dataset/test.xlsx\")"
   ]
  },
  {
   "cell_type": "code",
   "execution_count": 5,
   "metadata": {},
   "outputs": [
    {
     "name": "stdout",
     "output_type": "stream",
     "text": [
      "+-----------+----------+-------+-------+\n",
      "|month_bs_id|account_id|txn_amt|txn_cnt|\n",
      "+-----------+----------+-------+-------+\n",
      "|     9811.0|     868.0|  500.0|    1.0|\n",
      "|     9811.0|     975.0|  900.0|    1.0|\n",
      "|     9812.0|     335.0|30000.0|    1.0|\n",
      "|     9812.0|     688.0| 5000.0|    1.0|\n",
      "|     9812.0|     563.0| 5000.0|    1.0|\n",
      "+-----------+----------+-------+-------+\n",
      "only showing top 5 rows\n",
      "\n"
     ]
    }
   ],
   "source": [
    "data.show(5)"
   ]
  },
  {
   "cell_type": "markdown",
   "metadata": {},
   "source": [
    "### Aggregating by account_id and month_bs_id"
   ]
  },
  {
   "cell_type": "code",
   "execution_count": 6,
   "metadata": {},
   "outputs": [
    {
     "name": "stdout",
     "output_type": "stream",
     "text": [
      "+----------+-----------+-------------+-------------+\n",
      "|account_id|month_bs_id|total_txn_amt|total_txn_cnt|\n",
      "+----------+-----------+-------------+-------------+\n",
      "|      15.0|     9811.0|       3500.0|          7.0|\n",
      "|      15.0|     9812.0|       2000.0|          4.0|\n",
      "|      15.0|     9813.0|        500.0|          1.0|\n",
      "|      44.0|     9811.0|      10000.0|         10.0|\n",
      "|      44.0|     9812.0|       1000.0|          1.0|\n",
      "|      44.0|     9813.0|       1000.0|          1.0|\n",
      "|     325.0|     9811.0|     196000.0|         18.0|\n",
      "|     325.0|     9812.0|       2000.0|          1.0|\n",
      "|     325.0|     9813.0|      42000.0|          5.0|\n",
      "|     335.0|     9811.0|     300000.0|         10.0|\n",
      "|     335.0|     9812.0|      30000.0|          1.0|\n",
      "|     335.0|     9813.0|      30000.0|          1.0|\n",
      "|     563.0|     9811.0|      35000.0|          7.0|\n",
      "|     563.0|     9812.0|       5000.0|          1.0|\n",
      "|     563.0|     9813.0|      20000.0|          4.0|\n",
      "|     576.0|     9811.0|     405000.0|         18.0|\n",
      "|     576.0|     9812.0|      45000.0|          2.0|\n",
      "|     576.0|     9813.0|      90000.0|          4.0|\n",
      "|     688.0|     9811.0|      40000.0|          8.0|\n",
      "|     688.0|     9812.0|      10000.0|          2.0|\n",
      "+----------+-----------+-------------+-------------+\n",
      "only showing top 20 rows\n",
      "\n"
     ]
    }
   ],
   "source": [
    "df = data.groupBy('account_id', 'month_bs_id').agg(\n",
    "    sum('txn_amt').alias('total_txn_amt'),\n",
    "    sum('txn_cnt').alias('total_txn_cnt')\n",
    ").orderBy(asc('account_id'), asc('month_bs_id'))\n",
    "\n",
    "df.show()"
   ]
  },
  {
   "cell_type": "markdown",
   "metadata": {},
   "source": [
    "### Exponential Smoothing Function"
   ]
  },
  {
   "cell_type": "code",
   "execution_count": 7,
   "metadata": {},
   "outputs": [],
   "source": [
    "@udf(returnType=FloatType())\n",
    "def exponential_smoothing(series, alpha):\n",
    "    result = [series[0]]  \n",
    "    for i in range(1, len(series)):\n",
    "        result.append(alpha * series[i] + (1 - alpha) * result[-1])\n",
    "    return result[-1] "
   ]
  },
  {
   "cell_type": "code",
   "execution_count": 8,
   "metadata": {},
   "outputs": [
    {
     "name": "stdout",
     "output_type": "stream",
     "text": [
      "+----------+-----------+-------------+-------------+----------------+----------------+\n",
      "|account_id|month_bs_id|total_txn_amt|total_txn_cnt|smoothed_txn_amt|smoothed_txn_cnt|\n",
      "+----------+-----------+-------------+-------------+----------------+----------------+\n",
      "|      15.0|     9811.0|       3500.0|          7.0|          3500.0|             7.0|\n",
      "|      15.0|     9812.0|       2000.0|          4.0|          2600.0|             5.2|\n",
      "|      15.0|     9813.0|        500.0|          1.0|          1340.0|            2.68|\n",
      "|      44.0|     9811.0|      10000.0|         10.0|         10000.0|            10.0|\n",
      "|      44.0|     9812.0|       1000.0|          1.0|          4600.0|             4.6|\n",
      "|      44.0|     9813.0|       1000.0|          1.0|          2440.0|            2.44|\n",
      "|     325.0|     9811.0|     196000.0|         18.0|        196000.0|            18.0|\n",
      "|     325.0|     9812.0|       2000.0|          1.0|         79600.0|             7.8|\n",
      "|     325.0|     9813.0|      42000.0|          5.0|         57040.0|            6.12|\n",
      "|     335.0|     9811.0|     300000.0|         10.0|        300000.0|            10.0|\n",
      "|     335.0|     9812.0|      30000.0|          1.0|        138000.0|             4.6|\n",
      "|     335.0|     9813.0|      30000.0|          1.0|         73200.0|            2.44|\n",
      "|     563.0|     9811.0|      35000.0|          7.0|         35000.0|             7.0|\n",
      "|     563.0|     9812.0|       5000.0|          1.0|         17000.0|             3.4|\n",
      "|     563.0|     9813.0|      20000.0|          4.0|         18800.0|            3.76|\n",
      "|     576.0|     9811.0|     405000.0|         18.0|        405000.0|            18.0|\n",
      "|     576.0|     9812.0|      45000.0|          2.0|        189000.0|             8.4|\n",
      "|     576.0|     9813.0|      90000.0|          4.0|        129600.0|            5.76|\n",
      "|     688.0|     9811.0|      40000.0|          8.0|         40000.0|             8.0|\n",
      "|     688.0|     9812.0|      10000.0|          2.0|         22000.0|             4.4|\n",
      "+----------+-----------+-------------+-------------+----------------+----------------+\n",
      "only showing top 20 rows\n",
      "\n"
     ]
    }
   ],
   "source": [
    "window_spec = Window.partitionBy(\"account_id\").orderBy(\"month_bs_id\")\n",
    "\n",
    "smoothing_factor = 0.6\n",
    "# smoothing_factor = 2/(2+1)\n",
    "\n",
    "df = df.withColumn(\n",
    "    \"smoothed_txn_amt\", \n",
    "    exponential_smoothing(collect_list(\"total_txn_amt\").over(window_spec), lit(smoothing_factor))\n",
    ")\n",
    "\n",
    "df = df.withColumn(\n",
    "    \"smoothed_txn_cnt\", \n",
    "    exponential_smoothing(collect_list(\"total_txn_cnt\").over(window_spec), lit(smoothing_factor))\n",
    ")\n",
    "\n",
    "df.show()"
   ]
  },
  {
   "cell_type": "markdown",
   "metadata": {},
   "source": [
    "#### Only for Months"
   ]
  },
  {
   "cell_type": "code",
   "execution_count": 9,
   "metadata": {},
   "outputs": [
    {
     "name": "stdout",
     "output_type": "stream",
     "text": [
      "+-----------+-------------+-------------+----------------+----------------+\n",
      "|month_bs_id|total_txn_amt|total_txn_cnt|smoothed_txn_amt|smoothed_txn_cnt|\n",
      "+-----------+-------------+-------------+----------------+----------------+\n",
      "|     9811.0|    1301659.0|        163.0|       1301659.0|           163.0|\n",
      "|     9812.0|     168187.0|         30.0|        621575.8|            83.2|\n",
      "|     9813.0|     301198.0|         47.0|       429349.12|           61.48|\n",
      "+-----------+-------------+-------------+----------------+----------------+\n",
      "\n"
     ]
    }
   ],
   "source": [
    "smoothing_factor = 0.6\n",
    "\n",
    "df = data.groupBy('month_bs_id').agg(\n",
    "    sum('txn_amt').alias('total_txn_amt'),\n",
    "    sum('txn_cnt').alias('total_txn_cnt')\n",
    ").orderBy(asc('month_bs_id'))\n",
    "\n",
    "window_spec = Window.orderBy(\"month_bs_id\")\n",
    "\n",
    "df = df.withColumn(\n",
    "    \"smoothed_txn_amt\", \n",
    "    exponential_smoothing(collect_list(\"total_txn_amt\").over(window_spec), lit(smoothing_factor))\n",
    ")\n",
    "\n",
    "df = df.withColumn(\n",
    "    \"smoothed_txn_cnt\", \n",
    "    exponential_smoothing(collect_list(\"total_txn_cnt\").over(window_spec), lit(smoothing_factor))\n",
    ")\n",
    "\n",
    "df.show()\n"
   ]
  },
  {
   "cell_type": "code",
   "execution_count": 8,
   "metadata": {},
   "outputs": [
    {
     "data": {
      "image/png": "[encoded data removed]",
      "text/plain": [
       "<Figure size 640x480 with 1 Axes>"
      ]
     },
     "metadata": {},
     "output_type": "display_data"
    }
   ],
   "source": [
    "pdf = df.toPandas()\n",
    "pdf.head()\n",
    "\n",
    "import matplotlib.pyplot as plt\n",
    "plt.scatter(pdf['month_bs_id'], pdf['total_txn_cnt'])\n",
    "plt.plot(pdf['month_bs_id'], pdf['smoothed_txn_cnt']);"
   ]
  },
  {
   "cell_type": "markdown",
   "metadata": {},
   "source": [
    "### Exponential Smoothing in Pandas"
   ]
  },
  {
   "cell_type": "code",
   "execution_count": 9,
   "metadata": {},
   "outputs": [
    {
     "name": "stderr",
     "output_type": "stream",
     "text": [
      "C:\\Windows\\Temp\\ipykernel_4592\\1646737528.py:13: FutureWarning: Setting an item of incompatible dtype is deprecated and will raise an error in a future version of pandas. Value '96.80000000000001' has dtype incompatible with int32, please explicitly cast to a compatible dtype first.\n",
      "  result[i] = alpha * series[i] + (1 - alpha) * result[i - 1]\n"
     ]
    },
    {
     "data": {
      "text/html": [
       "<div>\n",
       "<style scoped>\n",
       "    .dataframe tbody tr th:only-of-type {\n",
       "        vertical-align: middle;\n",
       "    }\n",
       "\n",
       "    .dataframe tbody tr th {\n",
       "        vertical-align: top;\n",
       "    }\n",
       "\n",
       "    .dataframe thead th {\n",
       "        text-align: right;\n",
       "    }\n",
       "</style>\n",
       "<table border=\"1\" class=\"dataframe\">\n",
       "  <thead>\n",
       "    <tr style=\"text-align: right;\">\n",
       "      <th></th>\n",
       "      <th>Date</th>\n",
       "      <th>Sales</th>\n",
       "      <th>Smoothed_Sales</th>\n",
       "    </tr>\n",
       "  </thead>\n",
       "  <tbody>\n",
       "    <tr>\n",
       "      <th>0</th>\n",
       "      <td>2023-01-01</td>\n",
       "      <td>152</td>\n",
       "      <td>152.000</td>\n",
       "    </tr>\n",
       "    <tr>\n",
       "      <th>1</th>\n",
       "      <td>2023-01-02</td>\n",
       "      <td>142</td>\n",
       "      <td>146.000</td>\n",
       "    </tr>\n",
       "    <tr>\n",
       "      <th>2</th>\n",
       "      <td>2023-01-03</td>\n",
       "      <td>64</td>\n",
       "      <td>96.800</td>\n",
       "    </tr>\n",
       "    <tr>\n",
       "      <th>3</th>\n",
       "      <td>2023-01-04</td>\n",
       "      <td>156</td>\n",
       "      <td>132.320</td>\n",
       "    </tr>\n",
       "    <tr>\n",
       "      <th>4</th>\n",
       "      <td>2023-01-05</td>\n",
       "      <td>121</td>\n",
       "      <td>125.528</td>\n",
       "    </tr>\n",
       "  </tbody>\n",
       "</table>\n",
       "</div>"
      ],
      "text/plain": [
       "        Date  Sales  Smoothed_Sales\n",
       "0 2023-01-01    152         152.000\n",
       "1 2023-01-02    142         146.000\n",
       "2 2023-01-03     64          96.800\n",
       "3 2023-01-04    156         132.320\n",
       "4 2023-01-05    121         125.528"
      ]
     },
     "execution_count": 9,
     "metadata": {},
     "output_type": "execute_result"
    }
   ],
   "source": [
    "import pandas as pd\n",
    "import numpy as np\n",
    "\n",
    "np.random.seed(42)\n",
    "dates = pd.date_range(start='2023-01-01', periods=50, freq='D')\n",
    "sales = np.random.randint(50, 200, size=50)\n",
    "df = pd.DataFrame({'Date': dates, 'Sales': sales})\n",
    "\n",
    "def exponential_smoothing(series, alpha):\n",
    "    result = series.copy()\n",
    "    result[0] = series[0]  \n",
    "    for i in range(1, len(series)):\n",
    "        result[i] = alpha * series[i] + (1 - alpha) * result[i - 1]\n",
    "    return result\n",
    " \n",
    "smoothing_factor = 0.6\n",
    "df['Smoothed_Sales'] = exponential_smoothing(df['Sales'], smoothing_factor)\n",
    "\n",
    "df.head() "
   ]
  }
 ],
 "metadata": {
  "kernelspec": {
   "display_name": "Python 3",
   "language": "python",
   "name": "python3"
  },
  "language_info": {
   "codemirror_mode": {
    "name": "ipython",
    "version": 3
   },
   "file_extension": ".py",
   "mimetype": "text/x-python",
   "name": "python",
   "nbconvert_exporter": "python",
   "pygments_lexer": "ipython3",
   "version": "3.11.8"
  }
 },
 "nbformat": 4,
 "nbformat_minor": 2
}
