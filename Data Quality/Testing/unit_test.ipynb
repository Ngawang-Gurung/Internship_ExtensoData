{
 "cells": [
  {
   "cell_type": "markdown",
   "metadata": {},
   "source": [
    "## Unit Testing\n",
    "\n",
    "- Unit tests to test units(single function or method)\n",
    "- Ensure code works as intended and catch bugs early on"
   ]
  },
  {
   "cell_type": "markdown",
   "metadata": {},
   "source": [
    "### Assert\n",
    "\n",
    "- assert if a given condition is true or not\n",
    "- if the condition is true, nothing happens, but if it's not true, an error is raise\n",
    "- assert should not be used for error handling but for debugging and testing reasons\n",
    "\n",
    "syntax:\n",
    "```python\n",
    "assert <condition being tested>, <error message to be displayed>\n",
    "```"
   ]
  },
  {
   "cell_type": "code",
   "execution_count": 1,
   "metadata": {},
   "outputs": [],
   "source": [
    "assert 1>0"
   ]
  },
  {
   "cell_type": "code",
   "execution_count": 2,
   "metadata": {},
   "outputs": [
    {
     "ename": "AssertionError",
     "evalue": "",
     "output_type": "error",
     "traceback": [
      "\u001B[1;31m---------------------------------------------------------------------------\u001B[0m",
      "\u001B[1;31mAssertionError\u001B[0m                            Traceback (most recent call last)",
      "Cell \u001B[1;32mIn[2], line 1\u001B[0m\n\u001B[1;32m----> 1\u001B[0m \u001B[38;5;28;01massert\u001B[39;00m \u001B[38;5;241m1\u001B[39m\u001B[38;5;241m<\u001B[39m\u001B[38;5;241m0\u001B[39m\n",
      "\u001B[1;31mAssertionError\u001B[0m: "
     ]
    }
   ],
   "source": [
    "assert 1<0"
   ]
  },
  {
   "cell_type": "code",
   "execution_count": 4,
   "metadata": {},
   "outputs": [
    {
     "ename": "AssertionError",
     "evalue": "The Condition is False",
     "output_type": "error",
     "traceback": [
      "\u001B[1;31m---------------------------------------------------------------------------\u001B[0m",
      "\u001B[1;31mAssertionError\u001B[0m                            Traceback (most recent call last)",
      "Cell \u001B[1;32mIn[4], line 1\u001B[0m\n\u001B[1;32m----> 1\u001B[0m \u001B[38;5;28;01massert\u001B[39;00m \u001B[38;5;241m1\u001B[39m \u001B[38;5;241m<\u001B[39m \u001B[38;5;241m0\u001B[39m, \u001B[38;5;124m'\u001B[39m\u001B[38;5;124mThe Condition is False\u001B[39m\u001B[38;5;124m'\u001B[39m\n",
      "\u001B[1;31mAssertionError\u001B[0m: The Condition is False"
     ]
    }
   ],
   "source": [
    "assert 1 < 0, 'The Condition is False'"
   ]
  },
  {
   "cell_type": "markdown",
   "metadata": {},
   "source": [
    "### Common Assert Methods\n",
    "\n",
    "| Method                 | Checks that             |\n",
    "|------------------------|-------------------------|\n",
    "| assertEqual(a, b)      | a == b                  |\n",
    "| assertNotEqual(a, b)   | a != b                  |\n",
    "| assertTrue(x)          | bool(x) is True         |\n",
    "| assertFalse(x)         | bool(x) is False        |\n",
    "| assertIs(a, b)         | a is b                  |\n",
    "| assertIsNot(a, b)      | a is not b              |\n",
    "| assertIsNone(x)        | x is None               |\n",
    "| assertIsNotNone(x)     | x is not None           |\n",
    "| assertIn(a, b)         | a in b                  |\n",
    "| assertNotIn(a, b)      | a not in b              |\n",
    "| assertIsInstance(a, b) | isinstance(a, b)        |\n",
    "| assertNotIsInstance(a, b) | not isinstance(a, b) |\n"
   ]
  },
  {
   "metadata": {},
   "cell_type": "code",
   "outputs": [],
   "execution_count": null,
   "source": ""
  }
 ],
 "metadata": {
  "kernelspec": {
   "display_name": "Python 3",
   "language": "python",
   "name": "python3"
  },
  "language_info": {
   "codemirror_mode": {
    "name": "ipython",
    "version": 3
   },
   "file_extension": ".py",
   "mimetype": "text/x-python",
   "name": "python",
   "nbconvert_exporter": "python",
   "pygments_lexer": "ipython3",
   "version": "3.12.3"
  }
 },
 "nbformat": 4,
 "nbformat_minor": 2
}
