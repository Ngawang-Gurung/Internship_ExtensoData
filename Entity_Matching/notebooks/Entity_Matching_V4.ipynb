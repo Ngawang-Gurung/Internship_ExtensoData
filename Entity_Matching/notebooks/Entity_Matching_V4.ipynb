{
 "cells": [
  {
   "cell_type": "markdown",
   "metadata": {},
   "source": [
    "### Change-log\n",
    "\n",
    "- No need to pass 'soup' as arguments to function\n",
    "- Added source, modified_date"
   ]
  },
  {
   "cell_type": "markdown",
   "metadata": {},
   "source": [
    "### Import Libraries"
   ]
  },
  {
   "cell_type": "code",
   "execution_count": 1,
   "metadata": {},
   "source": [
    "import pandas as pd\n",
    "import numpy as np\n",
    "from sklearn.feature_extraction.text import TfidfVectorizer\n",
    "from sklearn.metrics.pairwise import cosine_similarity\n",
    "from Levenshtein import distance\n",
    "from datetime import datetime "
   ],
   "outputs": []
  },
  {
   "cell_type": "markdown",
   "metadata": {},
   "source": [
    "### Loading Dataset and Data Preprocessing"
   ]
  },
  {
   "cell_type": "code",
   "execution_count": 2,
   "metadata": {},
   "source": [
    "def load_df(filename):\n",
    "    return pd.read_csv(f'./dataset/{filename}.csv')\n",
    "\n",
    "layout1 = load_df('ABC_layout_1')\n",
    "layout2 = load_df('PQR_layout_2')\n",
    "layout3 = load_df('layout_3_voters')\n",
    "layout4 = load_df('KLM_layout_4')\n",
    "layout5 = load_df('layout_5_license')\n",
    "\n",
    "layout1 = layout1.rename(columns={\"First Name\": \"Name\", \"Father Name\": \"Father_Name\", \"Permanent_Adress\":\"Permanent_Address\"})\n",
    "layout2 = layout2.rename(columns = {\"Customer_ID\": \"Mobile Number\"})\n",
    "layout3 = layout3.rename(columns={\"votersName\": \"Name\", \"votersFatherName\": \"Father_Name\", \"votersMotherName\": \"Mother Name\", \" Gender\": \"Gender\", \"Permanent_Adress\":\"Permanent_Address\"})\n",
    "layout4 = layout4.rename(columns={\"Father Name\": \"Father_Name\"})\n",
    "\n",
    "layouts = [layout1, layout2, layout3, layout4, layout5]\n",
    "layout_sources = ['bank', 'esewa', 'voter', 'electricity', 'license']\n",
    "\n",
    "for layout, source in zip(layouts, layout_sources):\n",
    "    layout['source'] = source\n",
    "    layout['modified_date'] = datetime.now()\n",
    "\n",
    "def sanitize(df):\n",
    "    return df.map(lambda x: x.replace(',', '').replace(' ', '').strip() if isinstance(x, str) else '' if pd.isna(x) else x)\n",
    "    \n",
    "def create_soup(df, df_, soup, soup_name):\n",
    "    df[soup_name] = df_[soup].apply(lambda x: ' '.join(x.values.astype(str)).lower(), axis=1)\n",
    "\n",
    "layout_copies = [layout.copy() for layout in layouts]\n",
    "soup = ['Name', 'Date of Birth', 'Father_Name']\n",
    "\n",
    "for layout, layout_copy, in zip(layouts, layout_copies):\n",
    "    layout_copy = sanitize(layout_copy)\n",
    "    create_soup(layout, layout_copy, soup, \"soup\")"
   ],
   "outputs": []
  },
  {
   "cell_type": "markdown",
   "metadata": {},
   "source": [
    "### Entity Matching"
   ]
  },
  {
   "cell_type": "code",
   "execution_count": 14,
   "metadata": {},
   "source": [
    "def combine_layouts(A, B, metric='levenshtein', threshold=20):\n",
    "    def calculate_similarity(A, B, metric):\n",
    "        if metric == 'cosine':\n",
    "            tfidf = TfidfVectorizer(stop_words='english')\n",
    "            combined_soup = pd.concat([A['soup'], B['soup']], ignore_index=True)\n",
    "            tfidf.fit(combined_soup)\n",
    "            tfidf_matrix_A = tfidf.transform(A['soup'])\n",
    "            tfidf_matrix_B = tfidf.transform(B['soup'])\n",
    "            similarity = cosine_similarity(tfidf_matrix_A, tfidf_matrix_B)\n",
    "            similarity_df = pd.DataFrame(similarity, index=A.index, columns=B.index)\n",
    "            idx_row = similarity_df.idxmax(axis=1)\n",
    "            similarity_mask = similarity_df.max(axis=1) > threshold\n",
    "        else:\n",
    "            distance_matrix = pd.DataFrame([[distance(a, b) for b in B['soup']] for a in A['soup']], index=A.index, columns=B.index)\n",
    "            idx_row = distance_matrix.idxmin(axis=1)\n",
    "            similarity_mask = distance_matrix.min(axis=1) <= threshold\n",
    "        return idx_row, similarity_mask\n",
    "\n",
    "    def merge_data(A, B, idx_row, similarity_mask):\n",
    "        combined_columns = list(set(A.columns) | set(B.columns))\n",
    "        combined_data = pd.DataFrame(columns=combined_columns)\n",
    "        for idx_A in A.index:\n",
    "            if similarity_mask[idx_A]:\n",
    "                idx_B = idx_row[idx_A]\n",
    "                combined_row = A.loc[idx_A].combine_first(B.loc[idx_B])\n",
    "                combined_row['source'] = f\"{A.loc[idx_A]['source']}, {B.loc[idx_B]['source']}\"\n",
    "                combined_row['modified_date'] = datetime.now()\n",
    "            else:\n",
    "                combined_row = A.loc[idx_A]\n",
    "            combined_data = pd.concat([combined_data, combined_row.to_frame().T], ignore_index=True)\n",
    "        new_records = B.loc[~B.index.isin(idx_row[similarity_mask].values)]\n",
    "        return pd.concat([combined_data, new_records], ignore_index=True)\n",
    "\n",
    "    idx_row, similarity_mask = calculate_similarity(A, B, metric)\n",
    "    return merge_data(A, B, idx_row, similarity_mask)\n",
    "\n",
    "result_12 = combine_layouts(layout1, layout2)\n",
    "result_123 = combine_layouts(result_12, layout3)\n",
    "result_1234 = combine_layouts(result_123, layout4)\n",
    "final_result = combine_layouts(result_1234, layout5)\n",
    "final_result"
   ],
   "outputs": []
  },
  {
   "cell_type": "code",
   "execution_count": null,
   "metadata": {},
   "source": [],
   "outputs": []
  },
  {
   "cell_type": "code",
   "execution_count": null,
   "metadata": {},
   "source": [],
   "outputs": []
  }
 ],
 "metadata": {
  "kernelspec": {
   "display_name": "Python 3",
   "language": "python",
   "name": "python3"
  },
  "language_info": {
   "codemirror_mode": {
    "name": "ipython",
    "version": 3
   },
   "file_extension": ".py",
   "mimetype": "text/x-python",
   "name": "python",
   "nbconvert_exporter": "python",
   "pygments_lexer": "ipython3",
   "version": "3.12.3"
  }
 },
 "nbformat": 4,
 "nbformat_minor": 2
}
