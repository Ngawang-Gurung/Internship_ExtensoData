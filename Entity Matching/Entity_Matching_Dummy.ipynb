{
 "cells": [
  {
   "cell_type": "markdown",
   "metadata": {},
   "source": [
    "### Import Libraries"
   ]
  },
  {
   "cell_type": "code",
   "execution_count": 1,
   "metadata": {
    "ExecuteTime": {
     "end_time": "2024-05-19T11:15:57.160424Z",
     "start_time": "2024-05-19T11:15:57.152723Z"
    }
   },
   "outputs": [],
   "source": [
    "import pandas as pd\n",
    "\n",
    "from sklearn.feature_extraction.text import CountVectorizer\n",
    "from sklearn.metrics.pairwise import cosine_similarity"
   ]
  },
  {
   "cell_type": "markdown",
   "metadata": {},
   "source": [
    "### Creating a Dataset"
   ]
  },
  {
   "cell_type": "code",
   "execution_count": 2,
   "metadata": {
    "ExecuteTime": {
     "end_time": "2024-05-19T11:15:57.357626Z",
     "start_time": "2024-05-19T11:15:57.346219Z"
    }
   },
   "outputs": [],
   "source": [
    "data1 = {\n",
    "    \"ProductID\": [1, 2, 3, 4, 5],\n",
    "    # \"ProductName\": [\"Apple iPhone 12\", \"Samsung Galaxy S21\", \"Sony WH-1000XM4\", \"Dell XPS 13\", \"Apple MacBook Air\"],\n",
    "    \"Category\": [\"Electronics\", \"Electronics\", \"Electronics\", \"Computers\", \"Computers\"],\n",
    "    \"Price\": [799, 999, 349, 1199, 999],\n",
    "    \"Manufacturer\": [\"Apple Inc.\", \"Samsung\", \"Sony Corporation\", \"Dell\", \"Apple Inc.\"]\n",
    "}\n",
    "data2 = {\n",
    "    \"ID\": [\"A001\", \"A002\", \"A003\", \"A004\", \"A005\"],\n",
    "    \"Name\": [\"iPhone 12\", \"Galaxy S21\", \"WH-1000XM4\", \"XPS 13 Laptop\", \"MacBook Air 13\"],\n",
    "    \"Type\": [\"Mobile Phone\", \"Mobile Phone\", \"Headphones\", \"Laptop\", \"Laptop\"],\n",
    "    \"Cost\": [799, 999, 350, 1200, 999],\n",
    "    \"Brand\": [\"Apple\", \"Samsung\", \"Sony\", \"Dell Computers\", \"Apple Computers\"]\n",
    "}\n",
    "df1 = pd.DataFrame(data1)\n",
    "df2 = pd.DataFrame(data2)"
   ]
  },
  {
   "cell_type": "code",
   "execution_count": 3,
   "metadata": {
    "ExecuteTime": {
     "end_time": "2024-05-19T11:15:57.511402Z",
     "start_time": "2024-05-19T11:15:57.503228Z"
    }
   },
   "outputs": [
    {
     "data": {
      "text/html": [
       "<div>\n",
       "<style scoped>\n",
       "    .dataframe tbody tr th:only-of-type {\n",
       "        vertical-align: middle;\n",
       "    }\n",
       "\n",
       "    .dataframe tbody tr th {\n",
       "        vertical-align: top;\n",
       "    }\n",
       "\n",
       "    .dataframe thead th {\n",
       "        text-align: right;\n",
       "    }\n",
       "</style>\n",
       "<table border=\"1\" class=\"dataframe\">\n",
       "  <thead>\n",
       "    <tr style=\"text-align: right;\">\n",
       "      <th></th>\n",
       "      <th>ProductID</th>\n",
       "      <th>Category</th>\n",
       "      <th>Price</th>\n",
       "      <th>Manufacturer</th>\n",
       "    </tr>\n",
       "  </thead>\n",
       "  <tbody>\n",
       "    <tr>\n",
       "      <th>0</th>\n",
       "      <td>1</td>\n",
       "      <td>Electronics</td>\n",
       "      <td>799</td>\n",
       "      <td>Apple Inc.</td>\n",
       "    </tr>\n",
       "    <tr>\n",
       "      <th>1</th>\n",
       "      <td>2</td>\n",
       "      <td>Electronics</td>\n",
       "      <td>999</td>\n",
       "      <td>Samsung</td>\n",
       "    </tr>\n",
       "    <tr>\n",
       "      <th>2</th>\n",
       "      <td>3</td>\n",
       "      <td>Electronics</td>\n",
       "      <td>349</td>\n",
       "      <td>Sony Corporation</td>\n",
       "    </tr>\n",
       "    <tr>\n",
       "      <th>3</th>\n",
       "      <td>4</td>\n",
       "      <td>Computers</td>\n",
       "      <td>1199</td>\n",
       "      <td>Dell</td>\n",
       "    </tr>\n",
       "    <tr>\n",
       "      <th>4</th>\n",
       "      <td>5</td>\n",
       "      <td>Computers</td>\n",
       "      <td>999</td>\n",
       "      <td>Apple Inc.</td>\n",
       "    </tr>\n",
       "  </tbody>\n",
       "</table>\n",
       "</div>"
      ],
      "text/plain": [
       "   ProductID     Category  Price      Manufacturer\n",
       "0          1  Electronics    799        Apple Inc.\n",
       "1          2  Electronics    999           Samsung\n",
       "2          3  Electronics    349  Sony Corporation\n",
       "3          4    Computers   1199              Dell\n",
       "4          5    Computers    999        Apple Inc."
      ]
     },
     "execution_count": 3,
     "metadata": {},
     "output_type": "execute_result"
    }
   ],
   "source": [
    "df1.head()"
   ]
  },
  {
   "cell_type": "markdown",
   "metadata": {},
   "source": [
    "### Rearraning df2 records to make it messy"
   ]
  },
  {
   "cell_type": "code",
   "execution_count": 4,
   "metadata": {
    "ExecuteTime": {
     "end_time": "2024-05-19T11:15:57.675844Z",
     "start_time": "2024-05-19T11:15:57.656505Z"
    }
   },
   "outputs": [
    {
     "data": {
      "text/html": [
       "<div>\n",
       "<style scoped>\n",
       "    .dataframe tbody tr th:only-of-type {\n",
       "        vertical-align: middle;\n",
       "    }\n",
       "\n",
       "    .dataframe tbody tr th {\n",
       "        vertical-align: top;\n",
       "    }\n",
       "\n",
       "    .dataframe thead th {\n",
       "        text-align: right;\n",
       "    }\n",
       "</style>\n",
       "<table border=\"1\" class=\"dataframe\">\n",
       "  <thead>\n",
       "    <tr style=\"text-align: right;\">\n",
       "      <th></th>\n",
       "      <th>ID</th>\n",
       "      <th>Name</th>\n",
       "      <th>Type</th>\n",
       "      <th>Cost</th>\n",
       "      <th>Brand</th>\n",
       "    </tr>\n",
       "  </thead>\n",
       "  <tbody>\n",
       "    <tr>\n",
       "      <th>0</th>\n",
       "      <td>A001</td>\n",
       "      <td>iPhone 12</td>\n",
       "      <td>Mobile Phone</td>\n",
       "      <td>799</td>\n",
       "      <td>Apple</td>\n",
       "    </tr>\n",
       "    <tr>\n",
       "      <th>1</th>\n",
       "      <td>A004</td>\n",
       "      <td>XPS 13 Laptop</td>\n",
       "      <td>Laptop</td>\n",
       "      <td>1200</td>\n",
       "      <td>Dell Computers</td>\n",
       "    </tr>\n",
       "    <tr>\n",
       "      <th>2</th>\n",
       "      <td>A003</td>\n",
       "      <td>WH-1000XM4</td>\n",
       "      <td>Headphones</td>\n",
       "      <td>350</td>\n",
       "      <td>Sony</td>\n",
       "    </tr>\n",
       "    <tr>\n",
       "      <th>3</th>\n",
       "      <td>A005</td>\n",
       "      <td>MacBook Air 13</td>\n",
       "      <td>Laptop</td>\n",
       "      <td>999</td>\n",
       "      <td>Apple Computers</td>\n",
       "    </tr>\n",
       "    <tr>\n",
       "      <th>4</th>\n",
       "      <td>A002</td>\n",
       "      <td>Galaxy S21</td>\n",
       "      <td>Mobile Phone</td>\n",
       "      <td>999</td>\n",
       "      <td>Samsung</td>\n",
       "    </tr>\n",
       "  </tbody>\n",
       "</table>\n",
       "</div>"
      ],
      "text/plain": [
       "     ID            Name          Type  Cost            Brand\n",
       "0  A001       iPhone 12  Mobile Phone   799            Apple\n",
       "1  A004   XPS 13 Laptop        Laptop  1200   Dell Computers\n",
       "2  A003      WH-1000XM4    Headphones   350             Sony\n",
       "3  A005  MacBook Air 13        Laptop   999  Apple Computers\n",
       "4  A002      Galaxy S21  Mobile Phone   999          Samsung"
      ]
     },
     "execution_count": 4,
     "metadata": {},
     "output_type": "execute_result"
    }
   ],
   "source": [
    "desired_order_df2 = [0, 3, 2, 4, 1] \n",
    "\n",
    "# Rearrange rows in df1\n",
    "df2 = df2.iloc[desired_order_df2].reset_index(drop = True)\n",
    "df2"
   ]
  },
  {
   "cell_type": "markdown",
   "metadata": {},
   "source": [
    "### Entity Matching"
   ]
  },
  {
   "cell_type": "code",
   "execution_count": 5,
   "metadata": {
    "ExecuteTime": {
     "end_time": "2024-05-19T11:15:57.861670Z",
     "start_time": "2024-05-19T11:15:57.841291Z"
    }
   },
   "outputs": [],
   "source": [
    "# df1['soup1'] = df1[['ProductName', 'Category', 'Price','Manufacturer']].apply(lambda x: ' '.join(x.values.astype(str)), axis=1)\n",
    "df1['soup1'] = df1[['Category', 'Price','Manufacturer']].apply(lambda x: ' '.join(x.values.astype(str)), axis=1)"
   ]
  },
  {
   "cell_type": "code",
   "execution_count": 6,
   "metadata": {
    "ExecuteTime": {
     "end_time": "2024-05-19T11:15:58.041946Z",
     "start_time": "2024-05-19T11:15:58.023146Z"
    }
   },
   "outputs": [],
   "source": [
    "df2['soup2'] = df2[['Name', 'Type', 'Cost','Brand']].apply(lambda x: ' '.join(x.values.astype(str)), axis=1)"
   ]
  },
  {
   "cell_type": "code",
   "execution_count": 7,
   "metadata": {
    "ExecuteTime": {
     "end_time": "2024-05-19T11:15:58.195547Z",
     "start_time": "2024-05-19T11:15:58.177329Z"
    }
   },
   "outputs": [],
   "source": [
    "df1['soup1'] = df1['soup1'].apply(lambda x: x.lower())\n",
    "df2['soup2'] = df2['soup2'].apply(lambda x: x.lower())"
   ]
  },
  {
   "cell_type": "code",
   "execution_count": 8,
   "metadata": {
    "ExecuteTime": {
     "end_time": "2024-05-19T11:15:58.392871Z",
     "start_time": "2024-05-19T11:15:58.366769Z"
    }
   },
   "outputs": [
    {
     "data": {
      "text/html": [
       "<div>\n",
       "<style scoped>\n",
       "    .dataframe tbody tr th:only-of-type {\n",
       "        vertical-align: middle;\n",
       "    }\n",
       "\n",
       "    .dataframe tbody tr th {\n",
       "        vertical-align: top;\n",
       "    }\n",
       "\n",
       "    .dataframe thead th {\n",
       "        text-align: right;\n",
       "    }\n",
       "</style>\n",
       "<table border=\"1\" class=\"dataframe\">\n",
       "  <thead>\n",
       "    <tr style=\"text-align: right;\">\n",
       "      <th></th>\n",
       "      <th>0</th>\n",
       "      <th>1</th>\n",
       "      <th>2</th>\n",
       "      <th>3</th>\n",
       "      <th>4</th>\n",
       "    </tr>\n",
       "  </thead>\n",
       "  <tbody>\n",
       "    <tr>\n",
       "      <th>0</th>\n",
       "      <td>0.471405</td>\n",
       "      <td>0.00000</td>\n",
       "      <td>0.000000</td>\n",
       "      <td>0.218218</td>\n",
       "      <td>0.000000</td>\n",
       "    </tr>\n",
       "    <tr>\n",
       "      <th>1</th>\n",
       "      <td>0.000000</td>\n",
       "      <td>0.00000</td>\n",
       "      <td>0.000000</td>\n",
       "      <td>0.218218</td>\n",
       "      <td>0.471405</td>\n",
       "    </tr>\n",
       "    <tr>\n",
       "      <th>2</th>\n",
       "      <td>0.000000</td>\n",
       "      <td>0.00000</td>\n",
       "      <td>0.223607</td>\n",
       "      <td>0.000000</td>\n",
       "      <td>0.000000</td>\n",
       "    </tr>\n",
       "    <tr>\n",
       "      <th>3</th>\n",
       "      <td>0.000000</td>\n",
       "      <td>0.38490</td>\n",
       "      <td>0.000000</td>\n",
       "      <td>0.218218</td>\n",
       "      <td>0.000000</td>\n",
       "    </tr>\n",
       "    <tr>\n",
       "      <th>4</th>\n",
       "      <td>0.235702</td>\n",
       "      <td>0.19245</td>\n",
       "      <td>0.000000</td>\n",
       "      <td>0.654654</td>\n",
       "      <td>0.235702</td>\n",
       "    </tr>\n",
       "  </tbody>\n",
       "</table>\n",
       "</div>"
      ],
      "text/plain": [
       "          0        1         2         3         4\n",
       "0  0.471405  0.00000  0.000000  0.218218  0.000000\n",
       "1  0.000000  0.00000  0.000000  0.218218  0.471405\n",
       "2  0.000000  0.00000  0.223607  0.000000  0.000000\n",
       "3  0.000000  0.38490  0.000000  0.218218  0.000000\n",
       "4  0.235702  0.19245  0.000000  0.654654  0.235702"
      ]
     },
     "execution_count": 8,
     "metadata": {},
     "output_type": "execute_result"
    }
   ],
   "source": [
    "combined_soup = pd.concat([df1['soup1'], df2['soup2']])\n",
    "\n",
    "count = CountVectorizer(stop_words='english')\n",
    "count.fit(combined_soup)\n",
    "\n",
    "count_matrix_df1 = count.transform(df1['soup1'])\n",
    "count_matrix_df2 = count.transform(df2['soup2'])\n",
    "\n",
    "similarity = cosine_similarity(count_matrix_df1, count_matrix_df2)\n",
    "similarity_df = pd.DataFrame(similarity, index = df1.index, columns = df2.index)\n",
    "similarity_df"
   ]
  },
  {
   "cell_type": "code",
   "execution_count": 9,
   "metadata": {
    "ExecuteTime": {
     "end_time": "2024-05-19T11:15:58.571392Z",
     "start_time": "2024-05-19T11:15:58.555753Z"
    }
   },
   "outputs": [
    {
     "name": "stdout",
     "output_type": "stream",
     "text": [
      "0    0\n",
      "1    4\n",
      "2    2\n",
      "3    1\n",
      "4    3\n",
      "dtype: int64\n"
     ]
    }
   ],
   "source": [
    "max_idx_row = similarity_df.idxmax(axis = 1)\n",
    "print(max_idx_row)"
   ]
  },
  {
   "cell_type": "code",
   "execution_count": 10,
   "metadata": {
    "ExecuteTime": {
     "end_time": "2024-05-19T11:15:59.025520Z",
     "start_time": "2024-05-19T11:15:59.000980Z"
    }
   },
   "outputs": [
    {
     "data": {
      "text/html": [
       "<div>\n",
       "<style scoped>\n",
       "    .dataframe tbody tr th:only-of-type {\n",
       "        vertical-align: middle;\n",
       "    }\n",
       "\n",
       "    .dataframe tbody tr th {\n",
       "        vertical-align: top;\n",
       "    }\n",
       "\n",
       "    .dataframe thead th {\n",
       "        text-align: right;\n",
       "    }\n",
       "</style>\n",
       "<table border=\"1\" class=\"dataframe\">\n",
       "  <thead>\n",
       "    <tr style=\"text-align: right;\">\n",
       "      <th></th>\n",
       "      <th>soup1</th>\n",
       "      <th>soup2</th>\n",
       "    </tr>\n",
       "  </thead>\n",
       "  <tbody>\n",
       "    <tr>\n",
       "      <th>0</th>\n",
       "      <td>electronics 799 apple inc.</td>\n",
       "      <td>iphone 12 mobile phone 799 apple</td>\n",
       "    </tr>\n",
       "    <tr>\n",
       "      <th>1</th>\n",
       "      <td>electronics 999 samsung</td>\n",
       "      <td>galaxy s21 mobile phone 999 samsung</td>\n",
       "    </tr>\n",
       "    <tr>\n",
       "      <th>2</th>\n",
       "      <td>electronics 349 sony corporation</td>\n",
       "      <td>wh-1000xm4 headphones 350 sony</td>\n",
       "    </tr>\n",
       "    <tr>\n",
       "      <th>3</th>\n",
       "      <td>computers 1199 dell</td>\n",
       "      <td>xps 13 laptop laptop 1200 dell computers</td>\n",
       "    </tr>\n",
       "    <tr>\n",
       "      <th>4</th>\n",
       "      <td>computers 999 apple inc.</td>\n",
       "      <td>macbook air 13 laptop 999 apple computers</td>\n",
       "    </tr>\n",
       "  </tbody>\n",
       "</table>\n",
       "</div>"
      ],
      "text/plain": [
       "                              soup1                                      soup2\n",
       "0        electronics 799 apple inc.           iphone 12 mobile phone 799 apple\n",
       "1           electronics 999 samsung        galaxy s21 mobile phone 999 samsung\n",
       "2  electronics 349 sony corporation             wh-1000xm4 headphones 350 sony\n",
       "3               computers 1199 dell   xps 13 laptop laptop 1200 dell computers\n",
       "4          computers 999 apple inc.  macbook air 13 laptop 999 apple computers"
      ]
     },
     "execution_count": 10,
     "metadata": {},
     "output_type": "execute_result"
    }
   ],
   "source": [
    "combined_df = pd.DataFrame({\n",
    "    # 'df1_ProductID': df1['ProductID'].values,\n",
    "    'soup1': df1['soup1'].values,\n",
    "    # 'df2_ID': df2.loc[max_idx_row.values, 'ID'].values,\n",
    "    'soup2': df2.loc[max_idx_row.values, 'soup2'].values\n",
    "})\n",
    "\n",
    "combined_df"
   ]
  },
  {
   "cell_type": "code",
   "execution_count": 11,
   "metadata": {
    "ExecuteTime": {
     "end_time": "2024-05-19T11:15:59.199619Z",
     "start_time": "2024-05-19T11:15:59.173577Z"
    }
   },
   "outputs": [
    {
     "data": {
      "text/html": [
       "<div>\n",
       "<style scoped>\n",
       "    .dataframe tbody tr th:only-of-type {\n",
       "        vertical-align: middle;\n",
       "    }\n",
       "\n",
       "    .dataframe tbody tr th {\n",
       "        vertical-align: top;\n",
       "    }\n",
       "\n",
       "    .dataframe thead th {\n",
       "        text-align: right;\n",
       "    }\n",
       "</style>\n",
       "<table border=\"1\" class=\"dataframe\">\n",
       "  <thead>\n",
       "    <tr style=\"text-align: right;\">\n",
       "      <th></th>\n",
       "      <th>ProductID</th>\n",
       "      <th>Category</th>\n",
       "      <th>Price</th>\n",
       "      <th>Manufacturer</th>\n",
       "      <th>ID</th>\n",
       "      <th>Name</th>\n",
       "      <th>Type</th>\n",
       "      <th>Cost</th>\n",
       "      <th>Brand</th>\n",
       "    </tr>\n",
       "  </thead>\n",
       "  <tbody>\n",
       "    <tr>\n",
       "      <th>0</th>\n",
       "      <td>1</td>\n",
       "      <td>Electronics</td>\n",
       "      <td>799</td>\n",
       "      <td>Apple Inc.</td>\n",
       "      <td>A001</td>\n",
       "      <td>iPhone 12</td>\n",
       "      <td>Mobile Phone</td>\n",
       "      <td>799</td>\n",
       "      <td>Apple</td>\n",
       "    </tr>\n",
       "    <tr>\n",
       "      <th>1</th>\n",
       "      <td>2</td>\n",
       "      <td>Electronics</td>\n",
       "      <td>999</td>\n",
       "      <td>Samsung</td>\n",
       "      <td>A002</td>\n",
       "      <td>Galaxy S21</td>\n",
       "      <td>Mobile Phone</td>\n",
       "      <td>999</td>\n",
       "      <td>Samsung</td>\n",
       "    </tr>\n",
       "    <tr>\n",
       "      <th>2</th>\n",
       "      <td>3</td>\n",
       "      <td>Electronics</td>\n",
       "      <td>349</td>\n",
       "      <td>Sony Corporation</td>\n",
       "      <td>A003</td>\n",
       "      <td>WH-1000XM4</td>\n",
       "      <td>Headphones</td>\n",
       "      <td>350</td>\n",
       "      <td>Sony</td>\n",
       "    </tr>\n",
       "    <tr>\n",
       "      <th>3</th>\n",
       "      <td>4</td>\n",
       "      <td>Computers</td>\n",
       "      <td>1199</td>\n",
       "      <td>Dell</td>\n",
       "      <td>A004</td>\n",
       "      <td>XPS 13 Laptop</td>\n",
       "      <td>Laptop</td>\n",
       "      <td>1200</td>\n",
       "      <td>Dell Computers</td>\n",
       "    </tr>\n",
       "    <tr>\n",
       "      <th>4</th>\n",
       "      <td>5</td>\n",
       "      <td>Computers</td>\n",
       "      <td>999</td>\n",
       "      <td>Apple Inc.</td>\n",
       "      <td>A005</td>\n",
       "      <td>MacBook Air 13</td>\n",
       "      <td>Laptop</td>\n",
       "      <td>999</td>\n",
       "      <td>Apple Computers</td>\n",
       "    </tr>\n",
       "  </tbody>\n",
       "</table>\n",
       "</div>"
      ],
      "text/plain": [
       "   ProductID     Category  Price      Manufacturer    ID            Name  \\\n",
       "0          1  Electronics    799        Apple Inc.  A001       iPhone 12   \n",
       "1          2  Electronics    999           Samsung  A002      Galaxy S21   \n",
       "2          3  Electronics    349  Sony Corporation  A003      WH-1000XM4   \n",
       "3          4    Computers   1199              Dell  A004   XPS 13 Laptop   \n",
       "4          5    Computers    999        Apple Inc.  A005  MacBook Air 13   \n",
       "\n",
       "           Type  Cost            Brand  \n",
       "0  Mobile Phone   799            Apple  \n",
       "1  Mobile Phone   999          Samsung  \n",
       "2    Headphones   350             Sony  \n",
       "3        Laptop  1200   Dell Computers  \n",
       "4        Laptop   999  Apple Computers  "
      ]
     },
     "execution_count": 11,
     "metadata": {},
     "output_type": "execute_result"
    }
   ],
   "source": [
    "result = pd.merge(pd.merge(df1, combined_df, on = 'soup1', how = 'left'), df2, on = 'soup2', how = 'inner').drop(['soup1', 'soup2'], axis =1)\n",
    "result"
   ]
  }
 ],
 "metadata": {
  "kernelspec": {
   "display_name": "Python 3",
   "language": "python",
   "name": "python3"
  },
  "language_info": {
   "codemirror_mode": {
    "name": "ipython",
    "version": 3
   },
   "file_extension": ".py",
   "mimetype": "text/x-python",
   "name": "python",
   "nbconvert_exporter": "python",
   "pygments_lexer": "ipython3",
   "version": "3.12.3"
  }
 },
 "nbformat": 4,
 "nbformat_minor": 2
}
