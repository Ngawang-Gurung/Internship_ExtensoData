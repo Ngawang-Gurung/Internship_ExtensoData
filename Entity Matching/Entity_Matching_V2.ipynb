{
 "cells": [
  {
   "cell_type": "markdown",
   "metadata": {},
   "source": [
    "### Import Libraries"
   ]
  },
  {
   "cell_type": "code",
   "execution_count": 1,
   "metadata": {},
   "outputs": [],
   "source": [
    "import pandas as pd\n",
    "import numpy as np\n",
    "from sklearn.feature_extraction.text import TfidfVectorizer\n",
    "from sklearn.metrics.pairwise import cosine_similarity\n",
    "from Levenshtein import distance"
   ]
  },
  {
   "cell_type": "markdown",
   "metadata": {},
   "source": [
    "### Load Datasets"
   ]
  },
  {
   "cell_type": "code",
   "execution_count": 2,
   "metadata": {},
   "outputs": [],
   "source": [
    "def load_df(filename):\n",
    "    return pd.read_csv(f'./datasets/{filename}.csv')\n",
    "\n",
    "layout1 = load_df('ABC_layout_1')\n",
    "layout2 = load_df('PQR_layout_2')\n",
    "layout3 = load_df('layout_3_voters')\n",
    "layout4 = load_df('KLM_layout_4')\n",
    "layout5 = load_df('layout_5_license')"
   ]
  },
  {
   "cell_type": "markdown",
   "metadata": {},
   "source": [
    "### Rename Columns"
   ]
  },
  {
   "cell_type": "code",
   "execution_count": 3,
   "metadata": {},
   "outputs": [],
   "source": [
    "layout1 = layout1.rename(columns={\"First Name\": \"Name\", \"Father Name\": \"Father_Name\", \"Permanent_Adress\":\"Permanent_Address\"})\n",
    "layout2 = layout2.rename(columns = {\"Customer_ID\": \"Mobile Number\"})\n",
    "layout3 = layout3.rename(columns={\"votersName\": \"Name\", \"votersFatherName\": \"Father_Name\", \"votersMotherName\": \"Mother Name\", \" Gender\": \"Gender\", \"Permanent_Adress\":\"Permanent_Address\"})\n",
    "layout4 = layout4.rename(columns={\"Father Name\": \"Father_Name\"})"
   ]
  },
  {
   "cell_type": "markdown",
   "metadata": {},
   "source": [
    "### Data Preprocessing "
   ]
  },
  {
   "cell_type": "code",
   "execution_count": 4,
   "metadata": {},
   "outputs": [],
   "source": [
    "def sanitize(df):\n",
    "    return df.map(lambda x: x.replace(',', '').replace(' ', '').strip() if isinstance(x, str) else x)"
   ]
  },
  {
   "cell_type": "code",
   "execution_count": 5,
   "metadata": {},
   "outputs": [],
   "source": [
    "layouts = [layout1, layout2, layout3, layout4, layout5]\n",
    "layout_copies = [layout.copy() for layout in layouts]\n",
    "\n",
    "for i in range(len(layout_copies)):\n",
    "    layout_copies[i] = sanitize(layout_copies[i])"
   ]
  },
  {
   "cell_type": "markdown",
   "metadata": {},
   "source": [
    "### Creating Composite-keys *for* Entity Matching"
   ]
  },
  {
   "cell_type": "code",
   "execution_count": 6,
   "metadata": {},
   "outputs": [],
   "source": [
    "def create_soup(df, df_, soup, soup_name):\n",
    "    df[soup_name] = df_[soup].apply(lambda x: ' '.join(x.values.astype(str)).lower(), axis=1)"
   ]
  },
  {
   "cell_type": "code",
   "execution_count": 7,
   "metadata": {},
   "outputs": [],
   "source": [
    "soup = ['Name', 'Date of Birth', 'Father_Name']\n",
    "\n",
    "for i, j, k, in zip(layouts, layout_copies, range(len(layouts))):\n",
    "    create_soup(i, j, soup, f\"soup{k+1}\")"
   ]
  },
  {
   "cell_type": "markdown",
   "metadata": {},
   "source": [
    "### Remove Duplicate Columns After Merging "
   ]
  },
  {
   "cell_type": "code",
   "execution_count": 8,
   "metadata": {},
   "outputs": [],
   "source": [
    "def column_remover(df):\n",
    "\n",
    "    columns = [\"Name\", \"Date of Birth\", \"Father_Name\", \"Temporary_Address\", \"Mobile Number\", \"Permanent_Address\",  \"Mother Name\", \"Gender\"]\n",
    "    column_pairs = [(col, f\"{col}_x\", f\"{col}_y\") for col in columns]\n",
    "\n",
    "    for new_col, col_x, col_y in column_pairs:\n",
    "        if col_x in df.columns and col_y in df.columns:\n",
    "            df[new_col] = df[col_x].combine_first(df[col_y])\n",
    "            df.drop([col_x, col_y], axis=1, inplace=True)\n",
    "\n",
    "    return df"
   ]
  },
  {
   "cell_type": "markdown",
   "metadata": {},
   "source": [
    "### Entity Matching Engine"
   ]
  },
  {
   "cell_type": "code",
   "execution_count": null,
   "metadata": {},
   "outputs": [],
   "source": [
    "# def combine_layouts(A, B, soup_A, soup_B, threshold=0):\n",
    "#     tfidf = TfidfVectorizer(stop_words='english')\n",
    "    \n",
    "#     combined_soup = pd.concat([A[soup_A], B[soup_B]], ignore_index=True)\n",
    "#     tfidf.fit(combined_soup)\n",
    "    \n",
    "#     tfidf_matrix_A = tfidf.transform(A[soup_A])\n",
    "#     tfidf_matrix_B = tfidf.transform(B[soup_B])\n",
    "    \n",
    "#     similarity = cosine_similarity(tfidf_matrix_A, tfidf_matrix_B)\n",
    "#     similarity_df = pd.DataFrame(similarity, index=A.index, columns=B.index)\n",
    "\n",
    "#     max_idx_row = similarity_df.idxmax(axis=1)\n",
    "#     similarity_mask = similarity_df.max(axis=1) > threshold\n",
    "    \n",
    "#     combined_df = pd.DataFrame({\n",
    "#         soup_A: A[soup_A].values,\n",
    "#         soup_B: [B.loc[idx, soup_B] if mask else None for idx, mask in zip(max_idx_row.values, similarity_mask)]\n",
    "#     })\n",
    "\n",
    "#     result = pd.merge(pd.merge(A, combined_df, on=soup_A, how='left'), B, on=soup_B, how='left')\n",
    "#     result.drop(columns=soup_B, inplace=True)\n",
    "#     column_remover(result)\n",
    "#     return result"
   ]
  },
  {
   "cell_type": "code",
   "execution_count": 9,
   "metadata": {},
   "outputs": [],
   "source": [
    "def combine_layouts(A, B, soup_A, soup_B, metric = 'cosine', threshold=0):\n",
    "    if metric == 'cosine':\n",
    "        tfidf = TfidfVectorizer(stop_words='english')\n",
    "        \n",
    "        combined_soup = pd.concat([A[soup_A], B[soup_B]], ignore_index=True)\n",
    "        tfidf.fit(combined_soup)\n",
    "        \n",
    "        tfidf_matrix_A = tfidf.transform(A[soup_A])\n",
    "        tfidf_matrix_B = tfidf.transform(B[soup_B])\n",
    "        \n",
    "        similarity = cosine_similarity(tfidf_matrix_A, tfidf_matrix_B)\n",
    "        similarity_df = pd.DataFrame(similarity, index=A.index, columns=B.index)\n",
    "\n",
    "        max_idx_row = similarity_df.idxmax(axis=1)\n",
    "        similarity_mask = similarity_df.max(axis=1) > threshold\n",
    "        \n",
    "        combined_df = pd.DataFrame({\n",
    "            soup_A: A[soup_A].values,\n",
    "            soup_B: [B.loc[idx, soup_B] if mask else None for idx, mask in zip(max_idx_row.values, similarity_mask)]\n",
    "        })\n",
    "    elif metric == 'levenshtein':\n",
    "        distance_matrix = pd.DataFrame(np.zeros((len(A), len(B))), index=A.index, columns=B.index)\n",
    "\n",
    "        for i in A.index:\n",
    "            for j in B.index:\n",
    "                distance_matrix.loc[i, j] = distance(A.loc[i, soup_A], B.loc[j, soup_B])\n",
    "\n",
    "        min_idx_row = distance_matrix.idxmin(axis=1)\n",
    "        min_distance = distance_matrix.min(axis=1)\n",
    "\n",
    "        distance_mask = min_distance <= threshold\n",
    "\n",
    "        combined_df = pd.DataFrame({\n",
    "            soup_A: A[soup_A].values,\n",
    "            soup_B: [B.loc[idx, soup_B] if mask else None for idx, mask in zip(min_idx_row.values, distance_mask)]\n",
    "        })\n",
    "\n",
    "    result = pd.merge(pd.merge(A, combined_df, on=soup_A, how='left'), B, on=soup_B, how='left')\n",
    "    result.drop(columns=soup_B, inplace=True)\n",
    "    column_remover(result)\n",
    "    return result"
   ]
  },
  {
   "cell_type": "markdown",
   "metadata": {},
   "source": [
    "### Create Super Dataset"
   ]
  },
  {
   "cell_type": "code",
   "execution_count": 10,
   "metadata": {},
   "outputs": [],
   "source": [
    "result_12 = combine_layouts(layout1, layout2, 'soup1', 'soup2')\n",
    "result_123 = combine_layouts(result_12, layout3, 'soup1', 'soup3')\n",
    "result_1234 = combine_layouts(result_123, layout4, 'soup1', 'soup4')\n",
    "final_result = combine_layouts(result_1234, layout5, 'soup1', 'soup5')"
   ]
  },
  {
   "cell_type": "code",
   "execution_count": 11,
   "metadata": {},
   "outputs": [],
   "source": [
    "del final_result['soup1']"
   ]
  },
  {
   "cell_type": "code",
   "execution_count": 12,
   "metadata": {},
   "outputs": [
    {
     "data": {
      "text/html": [
       "<div>\n",
       "<style scoped>\n",
       "    .dataframe tbody tr th:only-of-type {\n",
       "        vertical-align: middle;\n",
       "    }\n",
       "\n",
       "    .dataframe tbody tr th {\n",
       "        vertical-align: top;\n",
       "    }\n",
       "\n",
       "    .dataframe thead th {\n",
       "        text-align: right;\n",
       "    }\n",
       "</style>\n",
       "<table border=\"1\" class=\"dataframe\">\n",
       "  <thead>\n",
       "    <tr style=\"text-align: right;\">\n",
       "      <th></th>\n",
       "      <th>Customer Code</th>\n",
       "      <th>National Id</th>\n",
       "      <th>PAN_Number</th>\n",
       "      <th>votersID</th>\n",
       "      <th>votersAge</th>\n",
       "      <th>SpouseName</th>\n",
       "      <th>Mother Name</th>\n",
       "      <th>Gender</th>\n",
       "      <th>Customer ID</th>\n",
       "      <th>SC Number</th>\n",
       "      <th>License Number</th>\n",
       "      <th>Blood Group</th>\n",
       "      <th>Citizenship Number</th>\n",
       "      <th>Name</th>\n",
       "      <th>Date of Birth</th>\n",
       "      <th>Father_Name</th>\n",
       "      <th>Temporary_Address</th>\n",
       "      <th>Mobile Number</th>\n",
       "      <th>Permanent_Address</th>\n",
       "    </tr>\n",
       "  </thead>\n",
       "  <tbody>\n",
       "    <tr>\n",
       "      <th>0</th>\n",
       "      <td>21216874</td>\n",
       "      <td>AB123C</td>\n",
       "      <td>ABCDE1234F</td>\n",
       "      <td>11116874</td>\n",
       "      <td>45</td>\n",
       "      <td>Sita Thapa</td>\n",
       "      <td>Laxmi Thapa</td>\n",
       "      <td>Male</td>\n",
       "      <td>3245</td>\n",
       "      <td>001.01.01</td>\n",
       "      <td>15-05-58353205</td>\n",
       "      <td>AB+</td>\n",
       "      <td>624-93227-32431/660086</td>\n",
       "      <td>Ram Thapa</td>\n",
       "      <td>1990-01-01</td>\n",
       "      <td>Ram Bahadur Thapa</td>\n",
       "      <td>Gongabu, Kathmandu, Nepal</td>\n",
       "      <td>1234567890</td>\n",
       "      <td>Baluwatar, Kathmandu, Nepal</td>\n",
       "    </tr>\n",
       "    <tr>\n",
       "      <th>1</th>\n",
       "      <td>22359363</td>\n",
       "      <td>DE456F</td>\n",
       "      <td>FGHIJ5678K</td>\n",
       "      <td>22259363</td>\n",
       "      <td>38</td>\n",
       "      <td>Ravi Sharma</td>\n",
       "      <td>Radha Sharma</td>\n",
       "      <td>Female</td>\n",
       "      <td>3246</td>\n",
       "      <td>001.01.02</td>\n",
       "      <td>21-08-00435579</td>\n",
       "      <td>AB-</td>\n",
       "      <td>747-42087-31417/584714</td>\n",
       "      <td>Sita Shrestha</td>\n",
       "      <td>1991-02-02</td>\n",
       "      <td>Hari Prasad Shrestha</td>\n",
       "      <td>New Road, Pokhara, Nepal</td>\n",
       "      <td>2345678901</td>\n",
       "      <td>Lakeside, Pokhara, Nepal</td>\n",
       "    </tr>\n",
       "    <tr>\n",
       "      <th>2</th>\n",
       "      <td>33485241</td>\n",
       "      <td>GH789I</td>\n",
       "      <td>LMNOP9012L</td>\n",
       "      <td>33385241</td>\n",
       "      <td>52</td>\n",
       "      <td>Maya Adhikari</td>\n",
       "      <td>Gita Adhikari</td>\n",
       "      <td>Male</td>\n",
       "      <td>3247</td>\n",
       "      <td>001.01.03</td>\n",
       "      <td>93-12-35351480</td>\n",
       "      <td>B-</td>\n",
       "      <td>389-45382-93886/821590</td>\n",
       "      <td>Hari Gurung</td>\n",
       "      <td>1992-03-03</td>\n",
       "      <td>Gopal Krishna Gurung</td>\n",
       "      <td>Pulchowk, Lalitpur, Nepal</td>\n",
       "      <td>3456789012</td>\n",
       "      <td>Chitwan National Park, Chitwan, Nepal</td>\n",
       "    </tr>\n",
       "    <tr>\n",
       "      <th>3</th>\n",
       "      <td>45475489</td>\n",
       "      <td>JK012L</td>\n",
       "      <td>QRSTU3456M</td>\n",
       "      <td>44475489</td>\n",
       "      <td>30</td>\n",
       "      <td>Surya Rai</td>\n",
       "      <td>Mina Rai</td>\n",
       "      <td>Female</td>\n",
       "      <td>3248</td>\n",
       "      <td>001.01.04</td>\n",
       "      <td>65-03-68139881</td>\n",
       "      <td>A-</td>\n",
       "      <td>571-38785-99733/440035</td>\n",
       "      <td>Gita Tamang</td>\n",
       "      <td>1993-04-04</td>\n",
       "      <td>Shyam Lal Tamang</td>\n",
       "      <td>Bagbazar, Kathmandu, Nepal</td>\n",
       "      <td>4567890123</td>\n",
       "      <td>Biratnagar, Morang, Nepal</td>\n",
       "    </tr>\n",
       "    <tr>\n",
       "      <th>4</th>\n",
       "      <td>56562139</td>\n",
       "      <td>MN345O</td>\n",
       "      <td>VWXYZ7890N</td>\n",
       "      <td>55562139</td>\n",
       "      <td>27</td>\n",
       "      <td>Sarita Karki</td>\n",
       "      <td>Kalpana Karki</td>\n",
       "      <td>Male</td>\n",
       "      <td>3249</td>\n",
       "      <td>001.01.05</td>\n",
       "      <td>14-11-40056582</td>\n",
       "      <td>A+</td>\n",
       "      <td>864-17331-40021/961722</td>\n",
       "      <td>Mohan Lama</td>\n",
       "      <td>1994-05-05</td>\n",
       "      <td>Krishna Raj Lama</td>\n",
       "      <td>Balkumari, Lalitpur, Nepal</td>\n",
       "      <td>5678901234</td>\n",
       "      <td>Bharatpur, Chitwan, Nepal</td>\n",
       "    </tr>\n",
       "  </tbody>\n",
       "</table>\n",
       "</div>"
      ],
      "text/plain": [
       "   Customer Code National Id  PAN_Number  votersID  votersAge     SpouseName  \\\n",
       "0       21216874      AB123C  ABCDE1234F  11116874         45     Sita Thapa   \n",
       "1       22359363      DE456F  FGHIJ5678K  22259363         38    Ravi Sharma   \n",
       "2       33485241      GH789I  LMNOP9012L  33385241         52  Maya Adhikari   \n",
       "3       45475489      JK012L  QRSTU3456M  44475489         30      Surya Rai   \n",
       "4       56562139      MN345O  VWXYZ7890N  55562139         27   Sarita Karki   \n",
       "\n",
       "     Mother Name  Gender  Customer ID  SC Number  License Number Blood Group  \\\n",
       "0    Laxmi Thapa    Male         3245  001.01.01  15-05-58353205         AB+   \n",
       "1   Radha Sharma  Female         3246  001.01.02  21-08-00435579         AB-   \n",
       "2  Gita Adhikari    Male         3247  001.01.03  93-12-35351480          B-   \n",
       "3       Mina Rai  Female         3248  001.01.04  65-03-68139881          A-   \n",
       "4  Kalpana Karki    Male         3249  001.01.05  14-11-40056582          A+   \n",
       "\n",
       "       Citizenship Number           Name Date of Birth           Father_Name  \\\n",
       "0  624-93227-32431/660086      Ram Thapa    1990-01-01     Ram Bahadur Thapa   \n",
       "1  747-42087-31417/584714  Sita Shrestha    1991-02-02  Hari Prasad Shrestha   \n",
       "2  389-45382-93886/821590    Hari Gurung    1992-03-03  Gopal Krishna Gurung   \n",
       "3  571-38785-99733/440035    Gita Tamang    1993-04-04      Shyam Lal Tamang   \n",
       "4  864-17331-40021/961722     Mohan Lama    1994-05-05      Krishna Raj Lama   \n",
       "\n",
       "            Temporary_Address  Mobile Number  \\\n",
       "0   Gongabu, Kathmandu, Nepal     1234567890   \n",
       "1    New Road, Pokhara, Nepal     2345678901   \n",
       "2   Pulchowk, Lalitpur, Nepal     3456789012   \n",
       "3  Bagbazar, Kathmandu, Nepal     4567890123   \n",
       "4  Balkumari, Lalitpur, Nepal     5678901234   \n",
       "\n",
       "                       Permanent_Address  \n",
       "0            Baluwatar, Kathmandu, Nepal  \n",
       "1               Lakeside, Pokhara, Nepal  \n",
       "2  Chitwan National Park, Chitwan, Nepal  \n",
       "3              Biratnagar, Morang, Nepal  \n",
       "4              Bharatpur, Chitwan, Nepal  "
      ]
     },
     "execution_count": 12,
     "metadata": {},
     "output_type": "execute_result"
    }
   ],
   "source": [
    "final_result.head()"
   ]
  },
  {
   "cell_type": "code",
   "execution_count": 13,
   "metadata": {},
   "outputs": [
    {
     "data": {
      "text/plain": [
       "(20, 19)"
      ]
     },
     "execution_count": 13,
     "metadata": {},
     "output_type": "execute_result"
    }
   ],
   "source": [
    "final_result.shape"
   ]
  }
 ],
 "metadata": {
  "kernelspec": {
   "display_name": "Python 3",
   "language": "python",
   "name": "python3"
  },
  "language_info": {
   "codemirror_mode": {
    "name": "ipython",
    "version": 3
   },
   "file_extension": ".py",
   "mimetype": "text/x-python",
   "name": "python",
   "nbconvert_exporter": "python",
   "pygments_lexer": "ipython3",
   "version": "3.12.3"
  }
 },
 "nbformat": 4,
 "nbformat_minor": 2
}
