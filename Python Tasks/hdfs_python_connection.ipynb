{
 "cells": [
  {
   "cell_type": "code",
   "execution_count": 1,
   "id": "8d203408",
   "metadata": {},
   "outputs": [],
   "source": [
    "# !pip install hdfs"
   ]
  },
  {
   "cell_type": "code",
   "execution_count": 1,
   "id": "initial_id",
   "metadata": {
    "ExecuteTime": {
     "end_time": "2024-05-15T11:11:20.262282Z",
     "start_time": "2024-05-15T11:11:20.167118Z"
    },
    "collapsed": true
   },
   "outputs": [],
   "source": [
    "import subprocess\n",
    "from hdfs import InsecureClient"
   ]
  },
  {
   "cell_type": "code",
   "execution_count": 2,
   "id": "1fa2492294b58865",
   "metadata": {
    "ExecuteTime": {
     "end_time": "2024-05-15T11:11:24.330146Z",
     "start_time": "2024-05-15T11:11:21.945494Z"
    }
   },
   "outputs": [],
   "source": [
    "# establish a connection path in hdfs\n",
    "hdfs_client = InsecureClient('http://localhost:9870', user = 'Ngawang')"
   ]
  },
  {
   "cell_type": "code",
   "execution_count": 13,
   "id": "002c6bc9",
   "metadata": {},
   "outputs": [],
   "source": [
    "local_file_path = \"D:/account_master.csv\"\n",
    "hdfs_upload_path = '/mydir'"
   ]
  },
  {
   "cell_type": "code",
   "execution_count": 14,
   "id": "fe49f8ae",
   "metadata": {},
   "outputs": [
    {
     "data": {
      "text/plain": [
       "'/mydir/account_master.csv'"
      ]
     },
     "execution_count": 14,
     "metadata": {},
     "output_type": "execute_result"
    }
   ],
   "source": [
    "hdfs_client.upload(hdfs_upload_path, local_file_path)"
   ]
  }
 ],
 "metadata": {
  "kernelspec": {
   "display_name": "Python 3",
   "language": "python",
   "name": "python3"
  },
  "language_info": {
   "codemirror_mode": {
    "name": "ipython",
    "version": 3
   },
   "file_extension": ".py",
   "mimetype": "text/x-python",
   "name": "python",
   "nbconvert_exporter": "python",
   "pygments_lexer": "ipython3",
   "version": "3.12.3"
  }
 },
 "nbformat": 4,
 "nbformat_minor": 5
}
